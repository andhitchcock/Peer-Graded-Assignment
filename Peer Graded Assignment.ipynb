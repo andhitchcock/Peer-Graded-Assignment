{
 "cells": [
  {
   "cell_type": "markdown",
   "metadata": {},
   "source": [
    "<center>\n",
    "    <img src=\"https://cf-courses-data.s3.us.cloud-object-storage.appdomain.cloud/IBMDeveloperSkillsNetwork-DS0105EN-SkillsNetwork/labs/Module2/images/SN_web_lightmode.png\" width=\"300\" alt=\"cognitiveclass.ai logo\"  />\n",
    "</center>\n"
   ]
  },
  {
   "cell_type": "markdown",
   "metadata": {},
   "source": [
    "#### Add your code below following the instructions given in the course\n"
   ]
  },
  {
   "cell_type": "markdown",
   "metadata": {},
   "source": [
    " <H1> My Jupyter Notebook on IBM Watson Studio </h1>"
   ]
  },
  {
   "cell_type": "markdown",
   "metadata": {},
   "source": [
    "Andrew Hitchcock\n",
    "\n",
    "**Data Scientist**"
   ]
  },
  {
   "cell_type": "markdown",
   "metadata": {},
   "source": [
    "*I am interested in data science because I find it very interesting and rewarding to learn.*"
   ]
  },
  {
   "cell_type": "markdown",
   "metadata": {},
   "source": [
    "<H3> The following code prints my name letter by letter on the same line and then it prints another phrase at the end to form a sentence</H3>"
   ]
  },
  {
   "cell_type": "code",
   "execution_count": 19,
   "metadata": {},
   "outputs": [
    {
     "name": "stdout",
     "output_type": "stream",
     "text": [
      "Andrew learns data science. \n"
     ]
    }
   ],
   "source": [
    "myName = ['A','n','d','r','e','w']\n",
    "coolStuff = ' learns data science. '\n",
    "for letter in myName:\n",
    "    print(letter,end=\"\") \n",
    "print(coolStuff)"
   ]
  },
  {
   "cell_type": "markdown",
   "metadata": {},
   "source": [
    "|Name| IsLearning | Subject |\n",
    "|---------| ----------- | ----------- |\n",
    "|Andrew| True | Data Science |\n",
    "\n",
    "`name = 'Andrew'\n",
    "IsSmart = False\n",
    "if name == 'Andrew':\n",
    "    IsSmart = True\n",
    "    print(IsSmart)`\n",
    "\n",
    "[BLB](https://www.https://www.blueletterbible.org)\n",
    "\n",
    "- [x] Learn data science\n",
    "- [ ] Sleep\n",
    "- [ ] Watch Cat videos"
   ]
  },
  {
   "cell_type": "code",
   "execution_count": null,
   "metadata": {},
   "outputs": [],
   "source": []
  }
 ],
 "metadata": {
  "kernelspec": {
   "display_name": "Python 3 (ipykernel)",
   "language": "python",
   "name": "python3"
  },
  "language_info": {
   "codemirror_mode": {
    "name": "ipython",
    "version": 3
   },
   "file_extension": ".py",
   "mimetype": "text/x-python",
   "name": "python",
   "nbconvert_exporter": "python",
   "pygments_lexer": "ipython3",
   "version": "3.9.13"
  }
 },
 "nbformat": 4,
 "nbformat_minor": 4
}
